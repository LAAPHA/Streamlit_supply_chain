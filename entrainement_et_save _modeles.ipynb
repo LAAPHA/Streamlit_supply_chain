{
 "cells": [
  {
   "cell_type": "code",
   "execution_count": null,
   "metadata": {},
   "outputs": [],
   "source": [
    "! pip install ipykernel"
   ]
  },
  {
   "cell_type": "code",
   "execution_count": 5,
   "metadata": {},
   "outputs": [
    {
     "name": "stderr",
     "output_type": "stream",
     "text": [
      "C:\\Users\\A042622\\AppData\\Local\\Temp\\ipykernel_26332\\3293903278.py:32: SettingWithCopyWarning: \n",
      "A value is trying to be set on a copy of a slice from a DataFrame.\n",
      "Try using .loc[row_indexer,col_indexer] = value instead\n",
      "\n",
      "See the caveats in the documentation: https://pandas.pydata.org/pandas-docs/stable/user_guide/indexing.html#returning-a-view-versus-a-copy\n",
      "  X_cat[col] = X_cat[col].fillna(X_cat[col].mode()[0])\n",
      "C:\\Users\\A042622\\AppData\\Local\\Temp\\ipykernel_26332\\3293903278.py:32: SettingWithCopyWarning: \n",
      "A value is trying to be set on a copy of a slice from a DataFrame.\n",
      "Try using .loc[row_indexer,col_indexer] = value instead\n",
      "\n",
      "See the caveats in the documentation: https://pandas.pydata.org/pandas-docs/stable/user_guide/indexing.html#returning-a-view-versus-a-copy\n",
      "  X_cat[col] = X_cat[col].fillna(X_cat[col].mode()[0])\n",
      "C:\\Users\\A042622\\AppData\\Local\\Temp\\ipykernel_26332\\3293903278.py:32: SettingWithCopyWarning: \n",
      "A value is trying to be set on a copy of a slice from a DataFrame.\n",
      "Try using .loc[row_indexer,col_indexer] = value instead\n",
      "\n",
      "See the caveats in the documentation: https://pandas.pydata.org/pandas-docs/stable/user_guide/indexing.html#returning-a-view-versus-a-copy\n",
      "  X_cat[col] = X_cat[col].fillna(X_cat[col].mode()[0])\n",
      "C:\\Users\\A042622\\AppData\\Local\\Temp\\ipykernel_26332\\3293903278.py:34: SettingWithCopyWarning: \n",
      "A value is trying to be set on a copy of a slice from a DataFrame.\n",
      "Try using .loc[row_indexer,col_indexer] = value instead\n",
      "\n",
      "See the caveats in the documentation: https://pandas.pydata.org/pandas-docs/stable/user_guide/indexing.html#returning-a-view-versus-a-copy\n",
      "  X_num[col] = X_num[col].fillna(X_num[col].median())\n"
     ]
    },
    {
     "data": {
      "text/plain": [
       "['model_lr_']"
      ]
     },
     "execution_count": 5,
     "metadata": {},
     "output_type": "execute_result"
    }
   ],
   "source": [
    "# C:\\datascientest\\streamlit_supply_chain> streamlit_projet_supply_chain.py\n",
    "\n",
    "####################\"\"\n",
    "# chemain acces avec terminal: datascientest\\Streamlit_supply_chain\n",
    "\n",
    "import pandas as pd\n",
    "import numpy as np\n",
    "import matplotlib.pyplot as plt\n",
    "import seaborn as sns\n",
    "\n",
    "# from sklearn.naive_bayes import MultinomialNB\n",
    "from sklearn.svm import SVC\n",
    "from sklearn.linear_model import LogisticRegression\n",
    "# from sklearn.neighbors import KNeighborsClassifier\n",
    "from sklearn.ensemble import RandomForestClassifier\n",
    "from sklearn.metrics import roc_auc_score, accuracy_score, confusion_matrix\n",
    "from sklearn.metrics import classification_report\n",
    "\n",
    "df=pd.read_csv(\"train.csv\")\n",
    "df.head()\n",
    "\n",
    " # (b) Dans le script Python streamlit_app.py, supprimer les variables non-pertinentes (PassengerID, Name, Ticket, Cabin).\n",
    "df = df.drop(['PassengerId', 'Name', 'Ticket', 'Cabin'], axis=1)\n",
    "  # (c) Dans le script Python, créer une variable y contenant la variable target. Créer un dataframe X_cat contenant les variables explicatives catégorielles et un dataframe X_num contenant les variables explicatives numériques.\n",
    "y = df['Survived']\n",
    "X_cat = df[['Pclass', 'Sex',  'Embarked']]\n",
    "X_num = df[['Age', 'Fare', 'SibSp', 'Parch']]\n",
    "  # (d) Dans le script Python, remplacer les valeurs manquantes des variables catégorielles par le mode et remplacer les valeurs manquantes des variables numériques par la médiane.\n",
    "  # (e) Dans le script Python, encoder les variables catégorielles.\n",
    "  # (f) Dans le script Python, concatener les variables explicatives encodées et sans valeurs manquantes pour obtenir un dataframe X clean.\n",
    "for col in X_cat.columns:\n",
    "  X_cat[col] = X_cat[col].fillna(X_cat[col].mode()[0])\n",
    "for col in X_num.columns:\n",
    "  X_num[col] = X_num[col].fillna(X_num[col].median())\n",
    "X_cat_scaled = pd.get_dummies(X_cat, columns=X_cat.columns)\n",
    "X = pd.concat([X_cat_scaled, X_num], axis = 1)\n",
    "  # (g) Dans le script Python, séparer les données en un ensemble d'entrainement et un ensemble test en utilisant la fonction train_test_split du package model_selection de Scikit-Learn.\n",
    "from sklearn.model_selection import train_test_split\n",
    "X_train, X_test, y_train, y_test = train_test_split(X, y, test_size=0.2, random_state=123)\n",
    "  \n",
    "  # (h) Dans le script Python, standardiser les valeurs numériques en utilisant la fonction StandardScaler du package Preprocessing de Scikit-Learn.\n",
    "from sklearn.preprocessing import StandardScaler\n",
    "scaler = StandardScaler()\n",
    "X_train[X_num.columns] = scaler.fit_transform(X_train[X_num.columns])\n",
    "X_test[X_num.columns] = scaler.transform(X_test[X_num.columns])\n",
    "\n",
    "  ########### pour enregistrer les model avec joblib ################\n",
    "import joblib\n",
    "clf_rf = RandomForestClassifier()\n",
    "clf_rf.fit(X_train, y_train)\n",
    "joblib.dump(clf_rf, \"model_rf_\")\n",
    "\n",
    "clf_svc = SVC()\n",
    "clf_svc.fit(X_train, y_train)\n",
    "joblib.dump(clf_svc, \"model_svc_\")\n",
    "\n",
    "clf_lr = LogisticRegression()\n",
    "clf_lr.fit(X_train, y_train)\n",
    "joblib.dump(clf_lr, \"model_lr_\")\n",
    "\n",
    "  ######################\n",
    "\n",
    "## fin\n"
   ]
  }
 ],
 "metadata": {
  "kernelspec": {
   "display_name": "base",
   "language": "python",
   "name": "python3"
  },
  "language_info": {
   "codemirror_mode": {
    "name": "ipython",
    "version": 3
   },
   "file_extension": ".py",
   "mimetype": "text/x-python",
   "name": "python",
   "nbconvert_exporter": "python",
   "pygments_lexer": "ipython3",
   "version": "3.10.9"
  }
 },
 "nbformat": 4,
 "nbformat_minor": 2
}
